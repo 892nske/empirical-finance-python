{
 "cells": [
  {
   "cell_type": "code",
   "execution_count": 1,
   "id": "58848bab-8eed-4432-a692-455bbeecfdb0",
   "metadata": {},
   "outputs": [],
   "source": [
    "import pandas as pd"
   ]
  },
  {
   "cell_type": "code",
   "execution_count": 2,
   "id": "6a016352-6181-4397-a9df-36de623e649c",
   "metadata": {},
   "outputs": [
    {
     "name": "stdout",
     "output_type": "stream",
     "text": [
      "7920\n"
     ]
    },
    {
     "data": {
      "application/vnd.microsoft.datawrangler.viewer.v0+json": {
       "columns": [
        {
         "name": "index",
         "rawType": "int64",
         "type": "integer"
        },
        {
         "name": "year",
         "rawType": "int64",
         "type": "integer"
        },
        {
         "name": "firm_ID",
         "rawType": "int64",
         "type": "integer"
        },
        {
         "name": "industry_ID",
         "rawType": "int64",
         "type": "integer"
        },
        {
         "name": "sales",
         "rawType": "float64",
         "type": "float"
        },
        {
         "name": "OX",
         "rawType": "float64",
         "type": "float"
        },
        {
         "name": "NFE",
         "rawType": "float64",
         "type": "float"
        },
        {
         "name": "X",
         "rawType": "float64",
         "type": "float"
        },
        {
         "name": "OA",
         "rawType": "float64",
         "type": "float"
        },
        {
         "name": "FA",
         "rawType": "float64",
         "type": "float"
        },
        {
         "name": "OL",
         "rawType": "float64",
         "type": "float"
        },
        {
         "name": "FO",
         "rawType": "float64",
         "type": "float"
        }
       ],
       "conversionMethod": "pd.DataFrame",
       "ref": "053ac8e7-f98c-417c-85a2-7a58998c1ebc",
       "rows": [
        [
         "0",
         "2015",
         "1",
         "1",
         "5261.4",
         "437.49",
         null,
         "286.64",
         "13005.55",
         "3543.43",
         "4372.96",
         "2480.72"
        ],
        [
         "1",
         "2016",
         "1",
         "1",
         "5948.96",
         "564.14",
         "50.66749760937501",
         "513.48",
         "13865.58",
         "4642.16",
         "4534.22",
         "3959.7"
        ],
        [
         "2",
         "2017",
         "1",
         "1",
         "6505.06",
         "691.18",
         "29.54315702499928",
         "661.64",
         "13952.58",
         "7743.99",
         "5111.22",
         "6159.02"
        ],
        [
         "3",
         "2018",
         "1",
         "1",
         "6846.38",
         "751.29",
         "86.48650016801827",
         "664.8",
         "18818.48",
         "7284.72",
         "5137.28",
         "10123.91"
        ],
        [
         "4",
         "2019",
         "1",
         "1",
         "7572.24",
         "958.53",
         "298.0497738191198",
         "660.48",
         "18190.0",
         "9735.13",
         "5487.96",
         "11362.22"
        ],
        [
         "5",
         "2020",
         "1",
         "1",
         "7537.63",
         "778.37",
         "-65.45877194758576",
         "843.83",
         "20462.86",
         "10274.25",
         "5371.38",
         "13772.15"
        ],
        [
         "6",
         "2015",
         "2",
         "1",
         "3505.75",
         "45.82",
         "5.751119126670516",
         "40.07",
         "2977.82",
         "2258.33",
         "1840.35",
         "2340.89"
        ],
        [
         "7",
         "2016",
         "2",
         "1",
         "3491.27",
         "51.25",
         "1.876541032191374",
         "49.37",
         "3184.8",
         "1881.83",
         "1769.17",
         "2215.87"
        ],
        [
         "8",
         "2017",
         "2",
         "1",
         "3945.66",
         "83.43",
         "7.527881494414544",
         "75.9",
         "3392.2",
         "2425.21",
         "1955.26",
         "2727.35"
        ],
        [
         "9",
         "2018",
         "2",
         "1",
         "4139.33",
         "93.4",
         "6.816627151105772",
         "86.58",
         "3569.31",
         "2331.02",
         "2022.12",
         "2694.5"
        ]
       ],
       "shape": {
        "columns": 11,
        "rows": 10
       }
      },
      "text/html": [
       "<div>\n",
       "<style scoped>\n",
       "    .dataframe tbody tr th:only-of-type {\n",
       "        vertical-align: middle;\n",
       "    }\n",
       "\n",
       "    .dataframe tbody tr th {\n",
       "        vertical-align: top;\n",
       "    }\n",
       "\n",
       "    .dataframe thead th {\n",
       "        text-align: right;\n",
       "    }\n",
       "</style>\n",
       "<table border=\"1\" class=\"dataframe\">\n",
       "  <thead>\n",
       "    <tr style=\"text-align: right;\">\n",
       "      <th></th>\n",
       "      <th>year</th>\n",
       "      <th>firm_ID</th>\n",
       "      <th>industry_ID</th>\n",
       "      <th>sales</th>\n",
       "      <th>OX</th>\n",
       "      <th>NFE</th>\n",
       "      <th>X</th>\n",
       "      <th>OA</th>\n",
       "      <th>FA</th>\n",
       "      <th>OL</th>\n",
       "      <th>FO</th>\n",
       "    </tr>\n",
       "  </thead>\n",
       "  <tbody>\n",
       "    <tr>\n",
       "      <th>0</th>\n",
       "      <td>2015</td>\n",
       "      <td>1</td>\n",
       "      <td>1</td>\n",
       "      <td>5261.40</td>\n",
       "      <td>437.49</td>\n",
       "      <td>NaN</td>\n",
       "      <td>286.64</td>\n",
       "      <td>13005.55</td>\n",
       "      <td>3543.43</td>\n",
       "      <td>4372.96</td>\n",
       "      <td>2480.72</td>\n",
       "    </tr>\n",
       "    <tr>\n",
       "      <th>1</th>\n",
       "      <td>2016</td>\n",
       "      <td>1</td>\n",
       "      <td>1</td>\n",
       "      <td>5948.96</td>\n",
       "      <td>564.14</td>\n",
       "      <td>50.667498</td>\n",
       "      <td>513.48</td>\n",
       "      <td>13865.58</td>\n",
       "      <td>4642.16</td>\n",
       "      <td>4534.22</td>\n",
       "      <td>3959.70</td>\n",
       "    </tr>\n",
       "    <tr>\n",
       "      <th>2</th>\n",
       "      <td>2017</td>\n",
       "      <td>1</td>\n",
       "      <td>1</td>\n",
       "      <td>6505.06</td>\n",
       "      <td>691.18</td>\n",
       "      <td>29.543157</td>\n",
       "      <td>661.64</td>\n",
       "      <td>13952.58</td>\n",
       "      <td>7743.99</td>\n",
       "      <td>5111.22</td>\n",
       "      <td>6159.02</td>\n",
       "    </tr>\n",
       "    <tr>\n",
       "      <th>3</th>\n",
       "      <td>2018</td>\n",
       "      <td>1</td>\n",
       "      <td>1</td>\n",
       "      <td>6846.38</td>\n",
       "      <td>751.29</td>\n",
       "      <td>86.486500</td>\n",
       "      <td>664.80</td>\n",
       "      <td>18818.48</td>\n",
       "      <td>7284.72</td>\n",
       "      <td>5137.28</td>\n",
       "      <td>10123.91</td>\n",
       "    </tr>\n",
       "    <tr>\n",
       "      <th>4</th>\n",
       "      <td>2019</td>\n",
       "      <td>1</td>\n",
       "      <td>1</td>\n",
       "      <td>7572.24</td>\n",
       "      <td>958.53</td>\n",
       "      <td>298.049774</td>\n",
       "      <td>660.48</td>\n",
       "      <td>18190.00</td>\n",
       "      <td>9735.13</td>\n",
       "      <td>5487.96</td>\n",
       "      <td>11362.22</td>\n",
       "    </tr>\n",
       "    <tr>\n",
       "      <th>5</th>\n",
       "      <td>2020</td>\n",
       "      <td>1</td>\n",
       "      <td>1</td>\n",
       "      <td>7537.63</td>\n",
       "      <td>778.37</td>\n",
       "      <td>-65.458772</td>\n",
       "      <td>843.83</td>\n",
       "      <td>20462.86</td>\n",
       "      <td>10274.25</td>\n",
       "      <td>5371.38</td>\n",
       "      <td>13772.15</td>\n",
       "    </tr>\n",
       "    <tr>\n",
       "      <th>6</th>\n",
       "      <td>2015</td>\n",
       "      <td>2</td>\n",
       "      <td>1</td>\n",
       "      <td>3505.75</td>\n",
       "      <td>45.82</td>\n",
       "      <td>5.751119</td>\n",
       "      <td>40.07</td>\n",
       "      <td>2977.82</td>\n",
       "      <td>2258.33</td>\n",
       "      <td>1840.35</td>\n",
       "      <td>2340.89</td>\n",
       "    </tr>\n",
       "    <tr>\n",
       "      <th>7</th>\n",
       "      <td>2016</td>\n",
       "      <td>2</td>\n",
       "      <td>1</td>\n",
       "      <td>3491.27</td>\n",
       "      <td>51.25</td>\n",
       "      <td>1.876541</td>\n",
       "      <td>49.37</td>\n",
       "      <td>3184.80</td>\n",
       "      <td>1881.83</td>\n",
       "      <td>1769.17</td>\n",
       "      <td>2215.87</td>\n",
       "    </tr>\n",
       "    <tr>\n",
       "      <th>8</th>\n",
       "      <td>2017</td>\n",
       "      <td>2</td>\n",
       "      <td>1</td>\n",
       "      <td>3945.66</td>\n",
       "      <td>83.43</td>\n",
       "      <td>7.527881</td>\n",
       "      <td>75.90</td>\n",
       "      <td>3392.20</td>\n",
       "      <td>2425.21</td>\n",
       "      <td>1955.26</td>\n",
       "      <td>2727.35</td>\n",
       "    </tr>\n",
       "    <tr>\n",
       "      <th>9</th>\n",
       "      <td>2018</td>\n",
       "      <td>2</td>\n",
       "      <td>1</td>\n",
       "      <td>4139.33</td>\n",
       "      <td>93.40</td>\n",
       "      <td>6.816627</td>\n",
       "      <td>86.58</td>\n",
       "      <td>3569.31</td>\n",
       "      <td>2331.02</td>\n",
       "      <td>2022.12</td>\n",
       "      <td>2694.50</td>\n",
       "    </tr>\n",
       "  </tbody>\n",
       "</table>\n",
       "</div>"
      ],
      "text/plain": [
       "   year  firm_ID  industry_ID    sales      OX         NFE       X        OA  \\\n",
       "0  2015        1            1  5261.40  437.49         NaN  286.64  13005.55   \n",
       "1  2016        1            1  5948.96  564.14   50.667498  513.48  13865.58   \n",
       "2  2017        1            1  6505.06  691.18   29.543157  661.64  13952.58   \n",
       "3  2018        1            1  6846.38  751.29   86.486500  664.80  18818.48   \n",
       "4  2019        1            1  7572.24  958.53  298.049774  660.48  18190.00   \n",
       "5  2020        1            1  7537.63  778.37  -65.458772  843.83  20462.86   \n",
       "6  2015        2            1  3505.75   45.82    5.751119   40.07   2977.82   \n",
       "7  2016        2            1  3491.27   51.25    1.876541   49.37   3184.80   \n",
       "8  2017        2            1  3945.66   83.43    7.527881   75.90   3392.20   \n",
       "9  2018        2            1  4139.33   93.40    6.816627   86.58   3569.31   \n",
       "\n",
       "         FA       OL        FO  \n",
       "0   3543.43  4372.96   2480.72  \n",
       "1   4642.16  4534.22   3959.70  \n",
       "2   7743.99  5111.22   6159.02  \n",
       "3   7284.72  5137.28  10123.91  \n",
       "4   9735.13  5487.96  11362.22  \n",
       "5  10274.25  5371.38  13772.15  \n",
       "6   2258.33  1840.35   2340.89  \n",
       "7   1881.83  1769.17   2215.87  \n",
       "8   2425.21  1955.26   2727.35  \n",
       "9   2331.02  2022.12   2694.50  "
      ]
     },
     "execution_count": 2,
     "metadata": {},
     "output_type": "execute_result"
    }
   ],
   "source": [
    "# CSVファイルの読み込み\n",
    "financial_data = pd.read_csv('simulation_data/ch04_financial_data.csv')\n",
    "\n",
    "# 行数の確認\n",
    "print(len(financial_data))\n",
    "\n",
    "# 冒頭N行の表示\n",
    "financial_data.head(10)"
   ]
  },
  {
   "cell_type": "code",
   "execution_count": 3,
   "id": "458b378c-60f2-4789-9f5b-336920918764",
   "metadata": {},
   "outputs": [
    {
     "name": "stdout",
     "output_type": "stream",
     "text": [
      "year              int64\n",
      "firm_ID        category\n",
      "industry_ID    category\n",
      "sales           float64\n",
      "OX              float64\n",
      "NFE             float64\n",
      "X               float64\n",
      "OA              float64\n",
      "FA              float64\n",
      "OL              float64\n",
      "FO              float64\n",
      "dtype: object\n"
     ]
    }
   ],
   "source": [
    "# film_IDとindustory_IDをカテゴリカル型に変換\n",
    "financial_data['firm_ID'] = financial_data['firm_ID'].astype('category')\n",
    "financial_data['industry_ID'] = financial_data['industry_ID'].astype('category')\n",
    "\n",
    "# 確認\n",
    "print(financial_data.dtypes)"
   ]
  },
  {
   "cell_type": "code",
   "execution_count": 4,
   "id": "2a41e323-686a-453e-a4ce-f831e5b17240",
   "metadata": {},
   "outputs": [
    {
     "name": "stdout",
     "output_type": "stream",
     "text": [
      "              year         sales             OX            NFE              X  \\\n",
      "count  7920.000000  7.920000e+03    7920.000000    7919.000000    7920.000000   \n",
      "mean   2017.542803  1.660070e+05    7968.907795      64.020924    7904.875920   \n",
      "std       1.705620  3.819803e+05   25951.564775    5941.342438   26910.184133   \n",
      "min    2015.000000  2.053400e+02 -353606.720000 -285383.869863 -357624.830000   \n",
      "25%    2016.000000  1.610333e+04     399.277500     -66.428412     383.270000   \n",
      "50%    2018.000000  4.043074e+04    1602.880000      -1.186762    1586.095000   \n",
      "75%    2019.000000  1.183138e+05    5260.460000      41.359527    5204.602500   \n",
      "max    2020.000000  3.496433e+06  398034.500000  331035.251520  572588.730000   \n",
      "\n",
      "                 OA            FA            OL            FO  \n",
      "count  7.920000e+03  7.920000e+03  7.920000e+03  7.920000e+03  \n",
      "mean   1.522728e+05  8.018535e+04  5.026088e+04  7.068061e+04  \n",
      "std    4.538792e+05  4.228521e+05  1.486024e+05  2.906257e+05  \n",
      "min    2.165100e+02  2.884300e+02  3.504000e+01  4.364000e+01  \n",
      "25%    1.255991e+04  6.835073e+03  3.964835e+03  3.757440e+03  \n",
      "50%    3.079924e+04  1.909533e+04  1.086831e+04  1.112520e+04  \n",
      "75%    9.346920e+04  5.211792e+04  3.311089e+04  3.544604e+04  \n",
      "max    7.987936e+06  2.925061e+07  2.817975e+06  7.026924e+06  \n"
     ]
    }
   ],
   "source": [
    "# 要約統計量の表示\n",
    "print(financial_data.describe())"
   ]
  },
  {
   "cell_type": "code",
   "execution_count": 5,
   "id": "7279a9b0-afc1-4860-ade5-91ac61cf1958",
   "metadata": {},
   "outputs": [
    {
     "name": "stdout",
     "output_type": "stream",
     "text": [
      "[2015 2016 2017 2018 2019 2020]\n"
     ]
    }
   ],
   "source": [
    "# year列の固有要素を抽出\n",
    "print(financial_data['year'].unique())"
   ]
  },
  {
   "cell_type": "code",
   "execution_count": 6,
   "id": "c53311c6-c768-49f5-be1f-34c005c495f7",
   "metadata": {},
   "outputs": [
    {
     "name": "stdout",
     "output_type": "stream",
     "text": [
      "1515\n",
      "10\n"
     ]
    }
   ],
   "source": [
    "# firmID及びindustry_IDの固有要素数をカウント\n",
    "print(len(financial_data['firm_ID'].unique()))\n",
    "print(len(financial_data['industry_ID'].unique()))"
   ]
  },
  {
   "cell_type": "code",
   "execution_count": 7,
   "id": "77256493-32f0-434d-a926-6f3830c294de",
   "metadata": {},
   "outputs": [
    {
     "name": "stdout",
     "output_type": "stream",
     "text": [
      "1\n",
      "year           0\n",
      "firm_ID        0\n",
      "industry_ID    0\n",
      "sales          0\n",
      "OX             0\n",
      "NFE            1\n",
      "X              0\n",
      "OA             0\n",
      "FA             0\n",
      "OL             0\n",
      "FO             0\n",
      "dtype: int64\n",
      "7919\n",
      "    year firm_ID industry_ID    sales      OX         NFE       X        OA  \\\n",
      "1   2016       1           1  5948.96  564.14   50.667498  513.48  13865.58   \n",
      "2   2017       1           1  6505.06  691.18   29.543157  661.64  13952.58   \n",
      "3   2018       1           1  6846.38  751.29   86.486500  664.80  18818.48   \n",
      "4   2019       1           1  7572.24  958.53  298.049774  660.48  18190.00   \n",
      "5   2020       1           1  7537.63  778.37  -65.458772  843.83  20462.86   \n",
      "6   2015       2           1  3505.75   45.82    5.751119   40.07   2977.82   \n",
      "7   2016       2           1  3491.27   51.25    1.876541   49.37   3184.80   \n",
      "8   2017       2           1  3945.66   83.43    7.527881   75.90   3392.20   \n",
      "9   2018       2           1  4139.33   93.40    6.816627   86.58   3569.31   \n",
      "10  2019       2           1  4416.98   99.23    8.088747   91.14   3740.78   \n",
      "\n",
      "          FA       OL        FO  \n",
      "1    4642.16  4534.22   3959.70  \n",
      "2    7743.99  5111.22   6159.02  \n",
      "3    7284.72  5137.28  10123.91  \n",
      "4    9735.13  5487.96  11362.22  \n",
      "5   10274.25  5371.38  13772.15  \n",
      "6    2258.33  1840.35   2340.89  \n",
      "7    1881.83  1769.17   2215.87  \n",
      "8    2425.21  1955.26   2727.35  \n",
      "9    2331.02  2022.12   2694.50  \n",
      "10   2898.54  2171.83   3230.33  \n"
     ]
    }
   ],
   "source": [
    "# 各行の欠損の有無を判定\n",
    "print(financial_data.isnull().any(axis=1).sum())\n",
    "# 欠損値の数をカウント\n",
    "print(financial_data.isnull().sum())\n",
    "# 欠損値の行を削除\n",
    "financial_data = financial_data.dropna()\n",
    "# 欠損値の行を削除した後の行数を確認\n",
    "print(len(financial_data))\n",
    "# 欠損値の行を削除した後の冒頭N行を表示\n",
    "print(financial_data.head(10))\n"
   ]
  },
  {
   "cell_type": "code",
   "execution_count": 8,
   "id": "69b8daf1",
   "metadata": {},
   "outputs": [],
   "source": [
    "# 2015年のデータのみ抽出\n",
    "financial_data_2015 = financial_data[financial_data['year'] == 2015]"
   ]
  },
  {
   "cell_type": "code",
   "execution_count": 9,
   "id": "d75969b4",
   "metadata": {},
   "outputs": [
    {
     "name": "stdout",
     "output_type": "stream",
     "text": [
      "    year firm_ID industry_ID      sales        OX         NFE         X  \\\n",
      "6   2015       2           1    3505.75     45.82    5.751119     40.07   \n",
      "12  2015       3           1  440789.92  -8246.19  188.315260  -8434.51   \n",
      "18  2015       4           1   39725.12    440.42   -3.504138    443.93   \n",
      "24  2015       5           1  420761.86  11191.47 -862.817207  12054.29   \n",
      "30  2015       6           1   26110.53  -2403.60  102.445290  -2506.05   \n",
      "35  2015       7           1   38978.69    281.63  -41.119439    322.75   \n",
      "45  2015       9           1   47104.43    360.20    4.519993    355.68   \n",
      "51  2015      10           1   36600.75    739.09   58.243279    680.84   \n",
      "57  2015      11           1  412144.70  15742.11  -35.562808  15777.67   \n",
      "63  2015      12           1    4033.07     17.36  -11.900917     29.26   \n",
      "\n",
      "           OA        FA         OL        FO  \n",
      "6     2977.82   2258.33    1840.35   2340.89  \n",
      "12   69759.59  63529.92   31278.65   8390.50  \n",
      "18   16626.50  15754.00    4980.04  15113.52  \n",
      "24  217325.71  97300.95  110877.02  57162.60  \n",
      "30    8654.31   5145.44    2885.32   3342.57  \n",
      "35   19228.77  11663.35    4440.86  13481.70  \n",
      "45   20358.46   3322.29    5023.00   6507.12  \n",
      "51   23489.16   6355.67    6636.13   8902.38  \n",
      "57  145971.92  79968.43   61558.32   4835.60  \n",
      "63    1342.39    786.25     638.41   1000.55  \n"
     ]
    }
   ],
   "source": [
    "# 2015年のデータの戦闘10行を表示\n",
    "print(financial_data_2015.head(10))"
   ]
  },
  {
   "cell_type": "code",
   "execution_count": 11,
   "id": "9d23e385",
   "metadata": {},
   "outputs": [
    {
     "data": {
      "image/png": "[encoded data removed]",
      "text/plain": [
       "<Figure size 1000x600 with 1 Axes>"
      ]
     },
     "metadata": {},
     "output_type": "display_data"
    }
   ],
   "source": [
    "# 2015年度のデータの売上高をヒストグラムに表示\n",
    "# X軸は10進数表記にする\n",
    "import matplotlib.pyplot as plt\n",
    "import matplotlib.ticker as ticker\n",
    "import numpy as np\n",
    "# ヒストグラムの作成\n",
    "plt.figure(figsize=(10, 6))\n",
    "plt.hist(financial_data_2015['sales'], bins=30, color='blue', alpha=0.7)\n",
    "# X軸の目盛りを10進数表記にする\n",
    "plt.gca().xaxis.set_major_formatter(ticker.FuncFormatter(lambda x, _: '{:,.0f}'.format(x)))\n",
    "# X軸の目盛りを10進数表記にする\n",
    "plt.gca().xaxis.set_major_locator(ticker.MaxNLocator(integer=True))\n",
    "# X軸のラベル\n",
    "plt.xlabel('Sales')\n",
    "# Y軸のラベル\n",
    "plt.ylabel('Frequency')\n",
    "# タイトル\n",
    "plt.title('Histogram of Sales in 2015')\n",
    "# グラフの表示\n",
    "plt.show()"
   ]
  },
  {
   "cell_type": "code",
   "execution_count": null,
   "id": "492177ed",
   "metadata": {},
   "outputs": [],
   "source": []
  }
 ],
 "metadata": {
  "kernelspec": {
   "display_name": "py311",
   "language": "python",
   "name": "python3"
  },
  "language_info": {
   "codemirror_mode": {
    "name": "ipython",
    "version": 3
   },
   "file_extension": ".py",
   "mimetype": "text/x-python",
   "name": "python",
   "nbconvert_exporter": "python",
   "pygments_lexer": "ipython3",
   "version": "3.11.5"
  }
 },
 "nbformat": 4,
 "nbformat_minor": 5
}
