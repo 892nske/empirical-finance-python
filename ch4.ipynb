{
 "cells": [
  {
   "cell_type": "code",
   "execution_count": 1,
   "id": "58848bab-8eed-4432-a692-455bbeecfdb0",
   "metadata": {},
   "outputs": [],
   "source": [
    "import pandas as pd"
   ]
  },
  {
   "cell_type": "code",
   "execution_count": 9,
   "id": "6a016352-6181-4397-a9df-36de623e649c",
   "metadata": {},
   "outputs": [
    {
     "name": "stdout",
     "output_type": "stream",
     "text": [
      "7920\n"
     ]
    },
    {
     "data": {
      "text/html": [
       "<div>\n",
       "<style scoped>\n",
       "    .dataframe tbody tr th:only-of-type {\n",
       "        vertical-align: middle;\n",
       "    }\n",
       "\n",
       "    .dataframe tbody tr th {\n",
       "        vertical-align: top;\n",
       "    }\n",
       "\n",
       "    .dataframe thead th {\n",
       "        text-align: right;\n",
       "    }\n",
       "</style>\n",
       "<table border=\"1\" class=\"dataframe\">\n",
       "  <thead>\n",
       "    <tr style=\"text-align: right;\">\n",
       "      <th></th>\n",
       "      <th>year</th>\n",
       "      <th>firm_ID</th>\n",
       "      <th>industry_ID</th>\n",
       "      <th>sales</th>\n",
       "      <th>OX</th>\n",
       "      <th>NFE</th>\n",
       "      <th>X</th>\n",
       "      <th>OA</th>\n",
       "      <th>FA</th>\n",
       "      <th>OL</th>\n",
       "      <th>FO</th>\n",
       "    </tr>\n",
       "  </thead>\n",
       "  <tbody>\n",
       "    <tr>\n",
       "      <th>0</th>\n",
       "      <td>2015</td>\n",
       "      <td>1</td>\n",
       "      <td>1</td>\n",
       "      <td>5261.40</td>\n",
       "      <td>437.49</td>\n",
       "      <td>NaN</td>\n",
       "      <td>286.64</td>\n",
       "      <td>13005.55</td>\n",
       "      <td>3543.43</td>\n",
       "      <td>4372.96</td>\n",
       "      <td>2480.72</td>\n",
       "    </tr>\n",
       "    <tr>\n",
       "      <th>1</th>\n",
       "      <td>2016</td>\n",
       "      <td>1</td>\n",
       "      <td>1</td>\n",
       "      <td>5948.96</td>\n",
       "      <td>564.14</td>\n",
       "      <td>50.667498</td>\n",
       "      <td>513.48</td>\n",
       "      <td>13865.58</td>\n",
       "      <td>4642.16</td>\n",
       "      <td>4534.22</td>\n",
       "      <td>3959.70</td>\n",
       "    </tr>\n",
       "    <tr>\n",
       "      <th>2</th>\n",
       "      <td>2017</td>\n",
       "      <td>1</td>\n",
       "      <td>1</td>\n",
       "      <td>6505.06</td>\n",
       "      <td>691.18</td>\n",
       "      <td>29.543157</td>\n",
       "      <td>661.64</td>\n",
       "      <td>13952.58</td>\n",
       "      <td>7743.99</td>\n",
       "      <td>5111.22</td>\n",
       "      <td>6159.02</td>\n",
       "    </tr>\n",
       "    <tr>\n",
       "      <th>3</th>\n",
       "      <td>2018</td>\n",
       "      <td>1</td>\n",
       "      <td>1</td>\n",
       "      <td>6846.38</td>\n",
       "      <td>751.29</td>\n",
       "      <td>86.486500</td>\n",
       "      <td>664.80</td>\n",
       "      <td>18818.48</td>\n",
       "      <td>7284.72</td>\n",
       "      <td>5137.28</td>\n",
       "      <td>10123.91</td>\n",
       "    </tr>\n",
       "    <tr>\n",
       "      <th>4</th>\n",
       "      <td>2019</td>\n",
       "      <td>1</td>\n",
       "      <td>1</td>\n",
       "      <td>7572.24</td>\n",
       "      <td>958.53</td>\n",
       "      <td>298.049774</td>\n",
       "      <td>660.48</td>\n",
       "      <td>18190.00</td>\n",
       "      <td>9735.13</td>\n",
       "      <td>5487.96</td>\n",
       "      <td>11362.22</td>\n",
       "    </tr>\n",
       "    <tr>\n",
       "      <th>5</th>\n",
       "      <td>2020</td>\n",
       "      <td>1</td>\n",
       "      <td>1</td>\n",
       "      <td>7537.63</td>\n",
       "      <td>778.37</td>\n",
       "      <td>-65.458772</td>\n",
       "      <td>843.83</td>\n",
       "      <td>20462.86</td>\n",
       "      <td>10274.25</td>\n",
       "      <td>5371.38</td>\n",
       "      <td>13772.15</td>\n",
       "    </tr>\n",
       "    <tr>\n",
       "      <th>6</th>\n",
       "      <td>2015</td>\n",
       "      <td>2</td>\n",
       "      <td>1</td>\n",
       "      <td>3505.75</td>\n",
       "      <td>45.82</td>\n",
       "      <td>5.751119</td>\n",
       "      <td>40.07</td>\n",
       "      <td>2977.82</td>\n",
       "      <td>2258.33</td>\n",
       "      <td>1840.35</td>\n",
       "      <td>2340.89</td>\n",
       "    </tr>\n",
       "    <tr>\n",
       "      <th>7</th>\n",
       "      <td>2016</td>\n",
       "      <td>2</td>\n",
       "      <td>1</td>\n",
       "      <td>3491.27</td>\n",
       "      <td>51.25</td>\n",
       "      <td>1.876541</td>\n",
       "      <td>49.37</td>\n",
       "      <td>3184.80</td>\n",
       "      <td>1881.83</td>\n",
       "      <td>1769.17</td>\n",
       "      <td>2215.87</td>\n",
       "    </tr>\n",
       "    <tr>\n",
       "      <th>8</th>\n",
       "      <td>2017</td>\n",
       "      <td>2</td>\n",
       "      <td>1</td>\n",
       "      <td>3945.66</td>\n",
       "      <td>83.43</td>\n",
       "      <td>7.527881</td>\n",
       "      <td>75.90</td>\n",
       "      <td>3392.20</td>\n",
       "      <td>2425.21</td>\n",
       "      <td>1955.26</td>\n",
       "      <td>2727.35</td>\n",
       "    </tr>\n",
       "    <tr>\n",
       "      <th>9</th>\n",
       "      <td>2018</td>\n",
       "      <td>2</td>\n",
       "      <td>1</td>\n",
       "      <td>4139.33</td>\n",
       "      <td>93.40</td>\n",
       "      <td>6.816627</td>\n",
       "      <td>86.58</td>\n",
       "      <td>3569.31</td>\n",
       "      <td>2331.02</td>\n",
       "      <td>2022.12</td>\n",
       "      <td>2694.50</td>\n",
       "    </tr>\n",
       "  </tbody>\n",
       "</table>\n",
       "</div>"
      ],
      "text/plain": [
       "   year  firm_ID  industry_ID    sales      OX         NFE       X        OA  \\\n",
       "0  2015        1            1  5261.40  437.49         NaN  286.64  13005.55   \n",
       "1  2016        1            1  5948.96  564.14   50.667498  513.48  13865.58   \n",
       "2  2017        1            1  6505.06  691.18   29.543157  661.64  13952.58   \n",
       "3  2018        1            1  6846.38  751.29   86.486500  664.80  18818.48   \n",
       "4  2019        1            1  7572.24  958.53  298.049774  660.48  18190.00   \n",
       "5  2020        1            1  7537.63  778.37  -65.458772  843.83  20462.86   \n",
       "6  2015        2            1  3505.75   45.82    5.751119   40.07   2977.82   \n",
       "7  2016        2            1  3491.27   51.25    1.876541   49.37   3184.80   \n",
       "8  2017        2            1  3945.66   83.43    7.527881   75.90   3392.20   \n",
       "9  2018        2            1  4139.33   93.40    6.816627   86.58   3569.31   \n",
       "\n",
       "         FA       OL        FO  \n",
       "0   3543.43  4372.96   2480.72  \n",
       "1   4642.16  4534.22   3959.70  \n",
       "2   7743.99  5111.22   6159.02  \n",
       "3   7284.72  5137.28  10123.91  \n",
       "4   9735.13  5487.96  11362.22  \n",
       "5  10274.25  5371.38  13772.15  \n",
       "6   2258.33  1840.35   2340.89  \n",
       "7   1881.83  1769.17   2215.87  \n",
       "8   2425.21  1955.26   2727.35  \n",
       "9   2331.02  2022.12   2694.50  "
      ]
     },
     "execution_count": 9,
     "metadata": {},
     "output_type": "execute_result"
    }
   ],
   "source": [
    "# CSVファイルの読み込み\n",
    "financial_data = pd.read_csv('simulation_data/ch04_financial_data.csv')\n",
    "\n",
    "# 行数の確認\n",
    "print(len(financial_data))\n",
    "\n",
    "# 冒頭N行の表示\n",
    "financial_data.head(10)"
   ]
  },
  {
   "cell_type": "code",
   "execution_count": 13,
   "id": "458b378c-60f2-4789-9f5b-336920918764",
   "metadata": {},
   "outputs": [
    {
     "name": "stdout",
     "output_type": "stream",
     "text": [
      "year              int64\n",
      "firm_ID        category\n",
      "industry_ID    category\n",
      "sales           float64\n",
      "OX              float64\n",
      "NFE             float64\n",
      "X               float64\n",
      "OA              float64\n",
      "FA              float64\n",
      "OL              float64\n",
      "FO              float64\n",
      "dtype: object\n"
     ]
    }
   ],
   "source": [
    "# film_IDとindustory_IDをカテゴリカル型に変換\n",
    "financial_data['firm_ID'] = financial_data['firm_ID'].astype('category')\n",
    "financial_data['industry_ID'] = financial_data['industry_ID'].astype('category')\n",
    "\n",
    "# 確認\n",
    "print(financial_data.dtypes)"
   ]
  },
  {
   "cell_type": "code",
   "execution_count": 14,
   "id": "2a41e323-686a-453e-a4ce-f831e5b17240",
   "metadata": {},
   "outputs": [
    {
     "name": "stdout",
     "output_type": "stream",
     "text": [
      "              year         sales             OX            NFE              X  \\\n",
      "count  7920.000000  7.920000e+03    7920.000000    7919.000000    7920.000000   \n",
      "mean   2017.542803  1.660070e+05    7968.907795      64.020924    7904.875920   \n",
      "std       1.705620  3.819803e+05   25951.564775    5941.342438   26910.184133   \n",
      "min    2015.000000  2.053400e+02 -353606.720000 -285383.869863 -357624.830000   \n",
      "25%    2016.000000  1.610333e+04     399.277500     -66.428412     383.270000   \n",
      "50%    2018.000000  4.043074e+04    1602.880000      -1.186762    1586.095000   \n",
      "75%    2019.000000  1.183138e+05    5260.460000      41.359527    5204.602500   \n",
      "max    2020.000000  3.496433e+06  398034.500000  331035.251520  572588.730000   \n",
      "\n",
      "                 OA            FA            OL            FO  \n",
      "count  7.920000e+03  7.920000e+03  7.920000e+03  7.920000e+03  \n",
      "mean   1.522728e+05  8.018535e+04  5.026088e+04  7.068061e+04  \n",
      "std    4.538792e+05  4.228521e+05  1.486024e+05  2.906257e+05  \n",
      "min    2.165100e+02  2.884300e+02  3.504000e+01  4.364000e+01  \n",
      "25%    1.255991e+04  6.835073e+03  3.964835e+03  3.757440e+03  \n",
      "50%    3.079924e+04  1.909533e+04  1.086831e+04  1.112520e+04  \n",
      "75%    9.346920e+04  5.211792e+04  3.311089e+04  3.544604e+04  \n",
      "max    7.987936e+06  2.925061e+07  2.817975e+06  7.026924e+06  \n"
     ]
    }
   ],
   "source": [
    "# 要約統計量の表示\n",
    "print(financial_data.describe())"
   ]
  },
  {
   "cell_type": "code",
   "execution_count": 15,
   "id": "7279a9b0-afc1-4860-ade5-91ac61cf1958",
   "metadata": {},
   "outputs": [
    {
     "name": "stdout",
     "output_type": "stream",
     "text": [
      "[2015 2016 2017 2018 2019 2020]\n"
     ]
    }
   ],
   "source": [
    "# year列の固有要素を抽出\n",
    "print(financial_data['year'].unique())"
   ]
  },
  {
   "cell_type": "code",
   "execution_count": 18,
   "id": "c53311c6-c768-49f5-be1f-34c005c495f7",
   "metadata": {},
   "outputs": [
    {
     "name": "stdout",
     "output_type": "stream",
     "text": [
      "1515\n",
      "10\n"
     ]
    }
   ],
   "source": [
    "# firmID及びindustry_IDの固有要素数をカウント\n",
    "print(len(financial_data['firm_ID'].unique()))\n",
    "print(len(financial_data['industry_ID'].unique()))"
   ]
  },
  {
   "cell_type": "code",
   "execution_count": null,
   "id": "77256493-32f0-434d-a926-6f3830c294de",
   "metadata": {},
   "outputs": [],
   "source": []
  }
 ],
 "metadata": {
  "kernelspec": {
   "display_name": "Python 3 (ipykernel)",
   "language": "python",
   "name": "python3"
  },
  "language_info": {
   "codemirror_mode": {
    "name": "ipython",
    "version": 3
   },
   "file_extension": ".py",
   "mimetype": "text/x-python",
   "name": "python",
   "nbconvert_exporter": "python",
   "pygments_lexer": "ipython3",
   "version": "3.11.5"
  }
 },
 "nbformat": 4,
 "nbformat_minor": 5
}
